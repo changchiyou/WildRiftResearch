{
 "cells": [
  {
   "cell_type": "code",
   "execution_count": 24,
   "id": "40978408",
   "metadata": {},
   "outputs": [],
   "source": [
    "import requests\n",
    "from bs4 import BeautifulSoup\n",
    "\n",
    "import pandas as pd\n",
    "import numpy as np\n",
    "from sklearn.linear_model import LinearRegression\n",
    "\n",
    "from bs4 import BeautifulSoup\n",
    "\n",
    "from selenium import webdriver\n",
    "from selenium.webdriver.chrome.service import Service\n",
    "from webdriver_manager.chrome import ChromeDriverManager\n",
    "from selenium.webdriver.common.by import By\n",
    "from selenium.webdriver.chrome.options import Options\n",
    "\n",
    "from multiprocessing.pool import ThreadPool, Pool\n",
    "import threading\n",
    "from tqdm import tqdm\n",
    "import csv\n",
    "\n",
    "from os.path import exists\n",
    "\n",
    "# pd.set_option('display.max_rows', None)\n",
    "# pd.set_option('display.max_columns', None)\n",
    "# pd.set_option('display.width', None)"
   ]
  },
  {
   "cell_type": "code",
   "execution_count": 25,
   "id": "ff70191c",
   "metadata": {},
   "outputs": [
    {
     "name": "stdout",
     "output_type": "stream",
     "text": [
      "200\n",
      "[('https://sea.wildstats.gg/en/profile/D1pWIYi6Y5O5wfvRYG7T', 'Yasuo LoVe'), ('https://sea.wildstats.gg/en/profile/S4oFFBRE88hAEhs41Ike', 'RRQ Chazz'), ('https://sea.wildstats.gg/en/profile/6LYjywZ3n8oYUe1wPwto', 'NGX ChammY'), ('https://sea.wildstats.gg/en/profile/EROGPRmlwyIuf24AnFNY', 'RRQ Tatsurii'), ('https://sea.wildstats.gg/en/profile/YwMfAm4canvu06JXp7WW', 'xori eto lang aq')]\n"
     ]
    }
   ],
   "source": [
    "response = requests.get(\n",
    "    \"https://sea.wildstats.gg/en/leaderboard\")\n",
    "soup = BeautifulSoup(response.text, \"html.parser\")\n",
    "elements = soup.findAll('a', attrs = {'class' : 'text-truncate'})\n",
    "leaderboard = [\n",
    "    (\n",
    "        'https://sea.wildstats.gg'+element.attrs[\"href\"], \n",
    "        element.findChildren(\"span\")[0].text\n",
    "    ) for element in elements\n",
    "]\n",
    "\n",
    "print(len(leaderboard))\n",
    "print(leaderboard[:5])"
   ]
  },
  {
   "cell_type": "code",
   "execution_count": 26,
   "id": "9344592a",
   "metadata": {},
   "outputs": [],
   "source": [
    "file_name = 'challengers.csv'\n",
    "\n",
    "if not exists(file_name):\n",
    "    threadLocal = threading.local()\n",
    "\n",
    "    def get_driver():\n",
    "        driver = getattr(threadLocal, 'driver', None)\n",
    "        if driver is None:\n",
    "            chrome_options = Options()\n",
    "            chrome_options.add_argument(\"--headless\")\n",
    "            driver = webdriver.Chrome(service=Service(ChromeDriverManager().install()), \n",
    "                                        options=chrome_options)\n",
    "\n",
    "            setattr(threadLocal, 'driver', driver)\n",
    "        return driver\n",
    "\n",
    "    def scrap(data):\n",
    "        url, id = data\n",
    "\n",
    "        driver = get_driver()\n",
    "\n",
    "        driver.get(url)\n",
    "        html = driver.page_source\n",
    "        soup = BeautifulSoup(html, features=\"html.parser\")\n",
    "        row_datas = soup.findAll('h1', attrs={'class': 'text-center m-0'})\n",
    "\n",
    "        row_datas_text = [data.text for data in row_datas]\n",
    "        marks = soup.find('span', attrs={'class':'badge badge-overlay text-white'}).findAll('div')[1].text.strip()\n",
    "        return (marks, *row_datas_text, url)\n",
    "\n",
    "    with ThreadPool(5) as p:\n",
    "        challenger_datas = list(tqdm(p.imap(scrap, leaderboard), total=len(leaderboard)))\n",
    "    driver = get_driver()\n",
    "    driver.quit()\n",
    "\n",
    "    df = pd.DataFrame(challenger_datas, columns=['Marks', 'WinRate', 'MVP', 'Played', 'URL'])\n",
    "\n",
    "    df.to_csv(file_name)\n",
    "else:\n",
    "    df = pd.read_csv(file_name)"
   ]
  },
  {
   "cell_type": "code",
   "execution_count": 27,
   "id": "39dbe541",
   "metadata": {},
   "outputs": [
    {
     "name": "stdout",
     "output_type": "stream",
     "text": [
      "   Unnamed: 0  Marks WinRate  MVP Played  \\\n",
      "0           0    244  58.53%  341  1,102   \n",
      "1           1    234  62.05%  330    751   \n",
      "2           2    221  64.34%  265    603   \n",
      "3           3    214  61.81%  234    741   \n",
      "4           4    200  59.08%  307    782   \n",
      "\n",
      "                                                 URL  \n",
      "0  https://sea.wildstats.gg/en/profile/D1pWIYi6Y5...  \n",
      "1  https://sea.wildstats.gg/en/profile/S4oFFBRE88...  \n",
      "2  https://sea.wildstats.gg/en/profile/6LYjywZ3n8...  \n",
      "3  https://sea.wildstats.gg/en/profile/EROGPRmlwy...  \n",
      "4  https://sea.wildstats.gg/en/profile/YwMfAm4can...  \n"
     ]
    }
   ],
   "source": [
    "print(df.head())"
   ]
  }
 ],
 "metadata": {
  "kernelspec": {
   "display_name": "wildrift",
   "language": "python",
   "name": "python3"
  },
  "language_info": {
   "codemirror_mode": {
    "name": "ipython",
    "version": 3
   },
   "file_extension": ".py",
   "mimetype": "text/x-python",
   "name": "python",
   "nbconvert_exporter": "python",
   "pygments_lexer": "ipython3",
   "version": "3.8.15"
  },
  "vscode": {
   "interpreter": {
    "hash": "8f3319847b62dfb03ecff6934166b9331ef0117e4ab6b010bde8f5d6e28a7b59"
   }
  }
 },
 "nbformat": 4,
 "nbformat_minor": 5
}
