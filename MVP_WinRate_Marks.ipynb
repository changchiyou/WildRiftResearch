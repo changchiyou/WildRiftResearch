{
 "cells": [
  {
   "cell_type": "code",
   "execution_count": 9,
   "id": "40978408",
   "metadata": {},
   "outputs": [],
   "source": [
    "import requests\n",
    "from bs4 import BeautifulSoup\n",
    "\n",
    "import pandas as pd\n",
    "import numpy as np\n",
    "from sklearn.linear_model import LinearRegression\n",
    "\n",
    "from bs4 import BeautifulSoup\n",
    "\n",
    "from selenium import webdriver\n",
    "from selenium.webdriver.chrome.service import Service\n",
    "from webdriver_manager.chrome import ChromeDriverManager\n",
    "from selenium.webdriver.common.by import By\n",
    "from selenium.webdriver.chrome.options import Options\n",
    "\n",
    "from multiprocessing.pool import ThreadPool, Pool\n",
    "import threading\n",
    "from tqdm import tqdm\n",
    "import csv\n",
    "\n",
    "pd.set_option('display.max_rows', None)\n",
    "pd.set_option('display.max_columns', None)\n",
    "pd.set_option('display.width', None)"
   ]
  },
  {
   "cell_type": "code",
   "execution_count": 14,
   "id": "ff70191c",
   "metadata": {},
   "outputs": [
    {
     "name": "stdout",
     "output_type": "stream",
     "text": [
      "200\n",
      "[('https://sea.wildstats.gg/en/profile/D1pWIYi6Y5O5wfvRYG7T', 'Yasuo LoVe'), ('https://sea.wildstats.gg/en/profile/S4oFFBRE88hAEhs41Ike', 'RRQ Chazz'), ('https://sea.wildstats.gg/en/profile/EROGPRmlwyIuf24AnFNY', 'RRQ Tatsurii'), ('https://sea.wildstats.gg/en/profile/6LYjywZ3n8oYUe1wPwto', 'NGX ChammY'), ('https://sea.wildstats.gg/en/profile/YwMfAm4canvu06JXp7WW', 'xori eto lang aq')]\n"
     ]
    }
   ],
   "source": [
    "response = requests.get(\n",
    "    \"https://sea.wildstats.gg/en/leaderboard\")\n",
    "soup = BeautifulSoup(response.text, \"html.parser\")\n",
    "elements = soup.findAll('a', attrs = {'class' : 'text-truncate'})\n",
    "leaderboard = [\n",
    "    (\n",
    "        'https://sea.wildstats.gg'+element.attrs[\"href\"], \n",
    "        element.findChildren(\"span\")[0].text\n",
    "    ) for element in elements\n",
    "]\n",
    "\n",
    "print(len(leaderboard))\n",
    "print(leaderboard[:5])"
   ]
  },
  {
   "cell_type": "code",
   "execution_count": 19,
   "id": "9344592a",
   "metadata": {},
   "outputs": [
    {
     "name": "stderr",
     "output_type": "stream",
     "text": [
      "100%|██████████| 200/200 [01:47<00:00,  1.86it/s]\n"
     ]
    }
   ],
   "source": [
    "threadLocal = threading.local()\n",
    "\n",
    "def get_driver():\n",
    "    driver = getattr(threadLocal, 'driver', None)\n",
    "    if driver is None:\n",
    "        chrome_options = Options()\n",
    "        chrome_options.add_argument(\"--headless\")\n",
    "        driver = webdriver.Chrome(service=Service(ChromeDriverManager().install()), \n",
    "                                    options=chrome_options)\n",
    "\n",
    "        setattr(threadLocal, 'driver', driver)\n",
    "    return driver\n",
    "\n",
    "def scrap(data):\n",
    "    url, id = data\n",
    "\n",
    "    driver = get_driver()\n",
    "\n",
    "    driver.get(url)\n",
    "    html = driver.page_source\n",
    "    soup = BeautifulSoup(html, features=\"html.parser\")\n",
    "    row_datas = soup.findAll('h1', attrs={'class': 'text-center m-0'})\n",
    "\n",
    "    row_datas_text = [data.text for data in row_datas]\n",
    "    marks = soup.find('span', attrs={'class':'badge badge-overlay text-white'}).findAll('div')[1].text.strip()\n",
    "    return (marks, *row_datas_text, url)\n",
    "\n",
    "with ThreadPool(5) as p:\n",
    "    challenger_datas = list(tqdm(p.imap(scrap, leaderboard), total=len(leaderboard)))\n",
    "\n",
    "with open(\"out1.csv\", \"w\", newline=\"\") as f:\n",
    "    writer = csv.writer(f)\n",
    "    writer.writerows(challenger_datas)\n",
    "\n",
    "# driver.quit()"
   ]
  }
 ],
 "metadata": {
  "kernelspec": {
   "display_name": "wildrift",
   "language": "python",
   "name": "python3"
  },
  "language_info": {
   "codemirror_mode": {
    "name": "ipython",
    "version": 3
   },
   "file_extension": ".py",
   "mimetype": "text/x-python",
   "name": "python",
   "nbconvert_exporter": "python",
   "pygments_lexer": "ipython3",
   "version": "3.8.15"
  },
  "vscode": {
   "interpreter": {
    "hash": "8f3319847b62dfb03ecff6934166b9331ef0117e4ab6b010bde8f5d6e28a7b59"
   }
  }
 },
 "nbformat": 4,
 "nbformat_minor": 5
}
