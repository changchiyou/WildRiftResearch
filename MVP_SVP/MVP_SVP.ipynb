{
 "cells": [
  {
   "cell_type": "code",
   "execution_count": 6,
   "metadata": {
    "id": "qPG1p_YogNmH"
   },
   "outputs": [],
   "source": [
    "import requests\n",
    "from bs4 import BeautifulSoup\n",
    "\n",
    "import pandas as pd\n",
    "import numpy as np\n",
    "from sklearn.linear_model import LinearRegression\n",
    "\n",
    "pd.set_option('display.max_rows', None)\n",
    "pd.set_option('display.max_columns', None)\n",
    "pd.set_option('display.width', None)"
   ]
  },
  {
   "cell_type": "code",
   "execution_count": 7,
   "metadata": {
    "id": "tLP-SCGcg2y0"
   },
   "outputs": [],
   "source": [
    "response = requests.get(\n",
    "    \"https://sea.wildstats.gg/en/profile/tlBhK5Y71Xm1qjXblmwQ/battle/898783879589689163\")"
   ]
  },
  {
   "cell_type": "code",
   "execution_count": 8,
   "metadata": {
    "id": "hrJ3LoNqikBu"
   },
   "outputs": [],
   "source": [
    "soup = BeautifulSoup(response.text, \"html.parser\")\n",
    "\n",
    "row_elements = soup.findAll('td', attrs = {'class' : 'text-grey'})\n",
    "\n",
    "rows = [row_element.text.strip() for row_element in row_elements]\n",
    "\n",
    "column_elements = soup.findAll(attrs={\"class\":\"m-auto\"})\n",
    "\n",
    "columns = [column_element.get(\"title\").split()[2] for column_element in column_elements]\n",
    "\n",
    "df = pd.DataFrame(columns=columns, index=rows)\n",
    "\n",
    "texts = soup.findAll(attrs={\"class\":\"text-center\", \"data-toggle\":\"tooltip\"})\n",
    "\n",
    "all_texts = [text.text.strip() for text in texts]\n",
    "all_texts = np.array(all_texts[10:]).reshape((-1, 10))\n",
    "\n",
    "for i, texts in enumerate(all_texts):\n",
    "  for j, text in enumerate(texts):\n",
    "    if text == \"-\":\n",
    "      all_texts[i, j] = '0'\n",
    "    elif text == \"✔\":\n",
    "      all_texts[i, j] = '1'\n",
    "    elif \"k\" in text:\n",
    "      pass\n",
    "    elif \"%\" in text:\n",
    "      all_texts[i, j] = text.replace(\"%\", \"\")\n",
    "\n",
    "all_texts = np.char.replace(all_texts, 'k', '000')\n",
    "all_texts = all_texts.astype(np.int32)\n",
    "all_texts = np.insert(all_texts, 0, [1, 2, 3, 4, 5]*2, 0)\n",
    "df = pd.DataFrame(all_texts, columns = columns, index = rows)"
   ]
  },
  {
   "cell_type": "code",
   "execution_count": 9,
   "metadata": {
    "colab": {
     "base_uri": "https://localhost:8080/"
    },
    "id": "rD9EsyNMkUBR",
    "outputId": "556d82be-c265-4d92-a91f-0ca252ad7ffc"
   },
   "outputs": [
    {
     "name": "stdout",
     "output_type": "stream",
     "text": [
      "Deaths                                     -0.901543\n",
      "Minions Killed                             -0.533368\n",
      "Health Recovered from honeyfruits          -0.514257\n",
      "Joined Baron Kills                         -0.463525\n",
      "Krug Kills                                 -0.372008\n",
      "Active Skill Equipped                      -0.312625\n",
      "Total Honeyfruit Used                      -0.292084\n",
      "Low Power Kill Number                      -0.274786\n",
      "Emoji                                      -0.258534\n",
      "Hang Time                                  -0.255503\n",
      "Honeyfruits Picked                         -0.242541\n",
      "Herald Tower Kills                         -0.216936\n",
      "Max Trail Kill Number                      -0.180583\n",
      "Quick Chats Sent                           -0.166318\n",
      "Total Healing Received                     -0.123225\n",
      "Hits using Skill 2                         -0.098531\n",
      "Seconds to Call Rift Herald                -0.062670\n",
      "Damage to Champions Dealt with Abilities   -0.040427\n",
      "Scryer Blooms Used                         -0.019666\n",
      "Hits using Skill 1                         -0.003567\n",
      "Damage Taken by Champions                  -0.002476\n",
      "Enemies Controlled                          0.005046\n",
      "Total Damage Dealt by Abilities             0.013486\n",
      "Rejected Surrender                          0.021694\n",
      "Total Damage dealt by Attacks               0.034735\n",
      "Total Wards                                 0.034890\n",
      "Skill 4 Count                               0.068488\n",
      "Total Damage Tanked                         0.096188\n",
      "Total Damage Dealt                          0.104798\n",
      "Signals                                     0.110349\n",
      "Red Buff Kills                              0.111881\n",
      "Hits using Skill 4                          0.125736\n",
      "Seconds to First Blood                      0.130162\n",
      "Towers Destroyed                            0.159259\n",
      "Wolf Kills                                  0.181275\n",
      "Nashor Kills                                0.182951\n",
      "Enemies Found using Scryer Blooms           0.188943\n",
      "Jungle Monster Kills                        0.203830\n",
      "Total Monster Kills                         0.210159\n",
      "Total Damage Dealt to Towers                0.217360\n",
      "Gromp Kills                                 0.219671\n",
      "Seconds to First Baron Kill                 0.226578\n",
      "Seconds to Herald Kill                      0.226578\n",
      "First Blood Assist                          0.226578\n",
      "Barons Killed                               0.226578\n",
      "Herald Kills                                0.226578\n",
      "Total Shield                                0.228052\n",
      "Dragons Killed                              0.228124\n",
      "Tower Kill Participation                    0.236693\n",
      "Seconds to First Dragon Kill                0.266575\n",
      "Summoner Spells Used                        0.267871\n",
      "Epic Kills                                  0.269234\n",
      "Scuttlers Kills                             0.273269\n",
      "Shield Used                                 0.283331\n",
      "Damage to Champions Dealt with Attacks      0.313332\n",
      "Raptor Kills                                0.318752\n",
      "Assists                                     0.321139\n",
      "Blue Buff Kills                             0.322794\n",
      "Total Damage Dealt to Towers                0.352100\n",
      "Hits using Skill 3                          0.352970\n",
      "Joined Dragon Kills                         0.355728\n",
      "Joined Tower Kills                          0.396813\n",
      "Double Kills                                0.398847\n",
      "Seconds to First Tower Destroyed            0.418516\n",
      "Explosive Fruits Moved (?)                  0.433582\n",
      "Position Played                             0.439738\n",
      "Boots Upgrade                               0.463525\n",
      "Shoe Enchantments Purchased                 0.470237\n",
      "Blast Cones Used                            0.474460\n",
      "Number of Aces                              0.484491\n",
      "Wards Destroyed                             0.491722\n",
      "Remaining Gold                              0.560962\n",
      "Destroyed Enemy Nexus                       0.592959\n",
      "Triple Kills                                0.592959\n",
      "Assist Streaks                              0.601290\n",
      "Total Damage to Champions                   0.610416\n",
      "Red Buffs Used                              0.622990\n",
      "Consecutive Five Kill                       0.629115\n",
      "Total Healing in Alleys                     0.642555\n",
      "Joined Red Buff Kills                       0.650127\n",
      "Blue Buffs Used                             0.672154\n",
      "Team MVP                                    0.701427\n",
      "Experience Points                           0.707513\n",
      "Gold                                        0.719997\n",
      "Kills                                       0.749928\n",
      "Total Self Healing                          0.775947\n",
      "Champion Level                              0.785833\n",
      "Kill Streaks                                0.881172\n",
      "Kill Participation Rate                     0.897133\n",
      "Gold for Kills                              0.939598\n",
      "Game Points                                 1.000000\n",
      "Seconds in Game                                  NaN\n",
      "dtype: float64\n"
     ]
    }
   ],
   "source": [
    "print(df.corrwith(df.loc[\"Game Points\"], axis=1).sort_values())"
   ]
  },
  {
   "cell_type": "code",
   "execution_count": 10,
   "metadata": {
    "colab": {
     "base_uri": "https://localhost:8080/"
    },
    "id": "LRWKBfFjl1vI",
    "outputId": "f1717d00-aa78-45df-a37e-65099ee35ad0"
   },
   "outputs": [
    {
     "name": "stdout",
     "output_type": "stream",
     "text": [
      "Damage Taken by Champions                  -0.002476\n",
      "Hits using Skill 1                         -0.003567\n",
      "Enemies Controlled                          0.005046\n",
      "Total Damage Dealt by Abilities             0.013486\n",
      "Scryer Blooms Used                         -0.019666\n",
      "Rejected Surrender                          0.021694\n",
      "Total Damage dealt by Attacks               0.034735\n",
      "Total Wards                                 0.034890\n",
      "Damage to Champions Dealt with Abilities   -0.040427\n",
      "Seconds to Call Rift Herald                -0.062670\n",
      "Skill 4 Count                               0.068488\n",
      "Total Damage Tanked                         0.096188\n",
      "Hits using Skill 2                         -0.098531\n",
      "Total Damage Dealt                          0.104798\n",
      "Signals                                     0.110349\n",
      "Red Buff Kills                              0.111881\n",
      "Total Healing Received                     -0.123225\n",
      "Hits using Skill 4                          0.125736\n",
      "Seconds to First Blood                      0.130162\n",
      "Towers Destroyed                            0.159259\n",
      "Quick Chats Sent                           -0.166318\n",
      "Max Trail Kill Number                      -0.180583\n",
      "Wolf Kills                                  0.181275\n",
      "Nashor Kills                                0.182951\n",
      "Enemies Found using Scryer Blooms           0.188943\n",
      "Jungle Monster Kills                        0.203830\n",
      "Total Monster Kills                         0.210159\n",
      "Herald Tower Kills                         -0.216936\n",
      "Total Damage Dealt to Towers                0.217360\n",
      "Gromp Kills                                 0.219671\n",
      "Seconds to First Baron Kill                 0.226578\n",
      "First Blood Assist                          0.226578\n",
      "Seconds to Herald Kill                      0.226578\n",
      "Barons Killed                               0.226578\n",
      "Herald Kills                                0.226578\n",
      "Total Shield                                0.228052\n",
      "Dragons Killed                              0.228124\n",
      "Tower Kill Participation                    0.236693\n",
      "Honeyfruits Picked                         -0.242541\n",
      "Hang Time                                  -0.255503\n",
      "Emoji                                      -0.258534\n",
      "Seconds to First Dragon Kill                0.266575\n",
      "Summoner Spells Used                        0.267871\n",
      "Epic Kills                                  0.269234\n",
      "Scuttlers Kills                             0.273269\n",
      "Low Power Kill Number                      -0.274786\n",
      "Shield Used                                 0.283331\n",
      "Total Honeyfruit Used                      -0.292084\n",
      "Active Skill Equipped                      -0.312625\n",
      "Damage to Champions Dealt with Attacks      0.313332\n",
      "Raptor Kills                                0.318752\n",
      "Assists                                     0.321139\n",
      "Blue Buff Kills                             0.322794\n",
      "Total Damage Dealt to Towers                0.352100\n",
      "Hits using Skill 3                          0.352970\n",
      "Joined Dragon Kills                         0.355728\n",
      "Krug Kills                                 -0.372008\n",
      "Joined Tower Kills                          0.396813\n",
      "Double Kills                                0.398847\n",
      "Seconds to First Tower Destroyed            0.418516\n",
      "Explosive Fruits Moved (?)                  0.433582\n",
      "Position Played                             0.439738\n",
      "Boots Upgrade                               0.463525\n",
      "Joined Baron Kills                         -0.463525\n",
      "Shoe Enchantments Purchased                 0.470237\n",
      "Blast Cones Used                            0.474460\n",
      "Number of Aces                              0.484491\n",
      "Wards Destroyed                             0.491722\n",
      "Health Recovered from honeyfruits          -0.514257\n",
      "Minions Killed                             -0.533368\n",
      "Remaining Gold                              0.560962\n",
      "Triple Kills                                0.592959\n",
      "Destroyed Enemy Nexus                       0.592959\n",
      "Assist Streaks                              0.601290\n",
      "Total Damage to Champions                   0.610416\n",
      "Red Buffs Used                              0.622990\n",
      "Consecutive Five Kill                       0.629115\n",
      "Total Healing in Alleys                     0.642555\n",
      "Joined Red Buff Kills                       0.650127\n",
      "Blue Buffs Used                             0.672154\n",
      "Team MVP                                    0.701427\n",
      "Experience Points                           0.707513\n",
      "Gold                                        0.719997\n",
      "Kills                                       0.749928\n",
      "Total Self Healing                          0.775947\n",
      "Champion Level                              0.785833\n",
      "Kill Streaks                                0.881172\n",
      "Kill Participation Rate                     0.897133\n",
      "Deaths                                     -0.901543\n",
      "Gold for Kills                              0.939598\n",
      "Game Points                                 1.000000\n",
      "Seconds in Game                                  NaN\n",
      "dtype: float64\n"
     ]
    }
   ],
   "source": [
    "print(df.corrwith(df.loc[\"Game Points\"], axis=1).sort_values(key = lambda x: abs(x)))"
   ]
  },
  {
   "cell_type": "code",
   "execution_count": 11,
   "metadata": {
    "colab": {
     "base_uri": "https://localhost:8080/"
    },
    "id": "GoOt2OzCsQad",
    "outputId": "4daeaf54-758c-40a9-e3d2-d962617223a8"
   },
   "outputs": [
    {
     "name": "stdout",
     "output_type": "stream",
     "text": [
      "(89, 10) (10,)\n"
     ]
    },
    {
     "data": {
      "text/plain": [
       "1.0"
      ]
     },
     "execution_count": 11,
     "metadata": {},
     "output_type": "execute_result"
    }
   ],
   "source": [
    "x = df.drop(['Seconds in Game', 'Game Points', 'Team MVP']).to_numpy()\n",
    "y = df.loc[\"Game Points\"].to_numpy()\n",
    "\n",
    "reg = LinearRegression().fit(np.rot90(x), y)\n",
    "\n",
    "print(x.shape, y.shape)\n",
    "reg.score(np.rot90(x), y)"
   ]
  },
  {
   "cell_type": "code",
   "execution_count": 12,
   "metadata": {
    "colab": {
     "base_uri": "https://localhost:8080/"
    },
    "id": "12ASgbh8JeeK",
    "outputId": "b3e299a1-154a-475e-c775-6ba2d77a4fee"
   },
   "outputs": [
    {
     "data": {
      "text/plain": [
       "array([-1.16172904e-06, -5.77122457e-08,  3.36336432e-04,  4.37875221e-07,\n",
       "        1.94147561e-07, -2.41048701e-06,  7.85995160e-08, -1.63949538e-07,\n",
       "       -3.53169965e-07,  2.63831837e-07,  1.65061417e-07, -3.20540514e-07,\n",
       "        2.10359492e-07, -7.87095613e-04, -7.71076302e-04, -5.76072427e-04,\n",
       "       -4.67480329e-04,  1.70818014e-05, -2.44162039e-04, -1.37097586e-03,\n",
       "        7.16387403e-04, -9.20252856e-04, -5.40461604e-04, -4.86896907e-08,\n",
       "       -2.44809832e-07,  1.49670955e-07, -7.36797382e-06,  2.79219434e-06,\n",
       "       -1.47975892e-05,  6.99322286e-05, -3.53169965e-07, -7.93238863e-04,\n",
       "       -2.03675108e-04, -1.37640452e-03,  8.00361100e-07,  1.38406298e-06,\n",
       "       -3.03890928e-05,  3.48256800e-07, -9.32696529e-05, -2.24205896e-07,\n",
       "        1.12916111e-04,  1.22073727e-06,  1.86495706e-07,  1.94357655e-07,\n",
       "       -4.27148475e-07,  1.37884531e-06, -3.07316186e-07,  2.29695313e-06,\n",
       "       -2.59439076e-08, -9.27730714e-07, -1.47290692e-06,  2.22962025e-06,\n",
       "        2.74697693e-07, -7.62211073e-07, -2.38038379e-07, -4.74983672e-08,\n",
       "       -1.00154992e-07, -3.01072793e-06, -6.77022487e-07, -5.48674973e-04,\n",
       "       -1.02596021e-04,  1.28390799e-06,  5.69783728e-07, -1.23297993e-05,\n",
       "       -2.87078788e-05, -2.24049141e-06, -4.55582778e-06,  1.31080270e-06,\n",
       "        7.70123871e-07, -2.43805572e-06, -1.87118316e-06,  5.39943997e-07,\n",
       "        4.43805921e-04,  1.53716559e-04, -3.62092523e-05, -2.24205896e-07,\n",
       "       -3.18335614e-04, -2.77048274e-06,  5.77471625e-07, -3.54554635e-07,\n",
       "       -2.04472669e-06,  2.71367241e-05, -2.17080884e-05, -7.65188886e-06,\n",
       "       -7.55637053e-06,  1.60284891e-06, -2.19060158e-07,  3.98528156e-06,\n",
       "        1.89211916e-07])"
      ]
     },
     "execution_count": 12,
     "metadata": {},
     "output_type": "execute_result"
    }
   ],
   "source": [
    "reg.coef_"
   ]
  }
 ],
 "metadata": {
  "colab": {
   "provenance": []
  },
  "kernelspec": {
   "display_name": "wildrift",
   "language": "python",
   "name": "python3"
  },
  "language_info": {
   "codemirror_mode": {
    "name": "ipython",
    "version": 3
   },
   "file_extension": ".py",
   "mimetype": "text/x-python",
   "name": "python",
   "nbconvert_exporter": "python",
   "pygments_lexer": "ipython3",
   "version": "3.8.15"
  },
  "vscode": {
   "interpreter": {
    "hash": "8f3319847b62dfb03ecff6934166b9331ef0117e4ab6b010bde8f5d6e28a7b59"
   }
  }
 },
 "nbformat": 4,
 "nbformat_minor": 1
}
