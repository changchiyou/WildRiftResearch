{
 "cells": [
  {
   "cell_type": "code",
   "execution_count": 59,
   "id": "40978408",
   "metadata": {},
   "outputs": [],
   "source": [
    "import requests\n",
    "from bs4 import BeautifulSoup\n",
    "\n",
    "import pandas as pd\n",
    "import numpy as np\n",
    "from sklearn.linear_model import LinearRegression\n",
    "\n",
    "from bs4 import BeautifulSoup\n",
    "\n",
    "from selenium import webdriver\n",
    "from selenium.webdriver.chrome.service import Service\n",
    "from webdriver_manager.chrome import ChromeDriverManager\n",
    "from selenium.webdriver.common.by import By\n",
    "from selenium.webdriver.chrome.options import Options\n",
    "\n",
    "from multiprocessing.pool import ThreadPool, Pool\n",
    "import threading\n",
    "from tqdm import tqdm\n",
    "import csv\n",
    "\n",
    "import os\n",
    "\n",
    "from matplotlib import pyplot as plt\n",
    "from mpl_toolkits.mplot3d import Axes3D\n",
    "\n",
    "import datetime\n",
    "\n",
    "# pd.set_option('display.max_rows', None)\n",
    "# pd.set_option('display.max_columns', None)\n",
    "# pd.set_option('display.width', None)"
   ]
  },
  {
   "cell_type": "code",
   "execution_count": 60,
   "id": "a10a78d0",
   "metadata": {},
   "outputs": [],
   "source": [
    "season = 8\n",
    "root_folder = './challenger_datas/'"
   ]
  },
  {
   "cell_type": "code",
   "execution_count": 61,
   "id": "1799a789",
   "metadata": {},
   "outputs": [
    {
     "name": "stdout",
     "output_type": "stream",
     "text": [
      "['S7-2023-01-10.csv', 'S8-2023-01-17.csv']\n"
     ]
    }
   ],
   "source": [
    "for (dirpath, dirnames, filenames) in os.walk(root_folder):\n",
    "    print(filenames)"
   ]
  },
  {
   "cell_type": "code",
   "execution_count": 62,
   "id": "77540310",
   "metadata": {},
   "outputs": [],
   "source": [
    "#file_name = 'S%d-%s.csv' % (season, datetime.date.today())\n",
    "file_name = 'S7-2023-01-10.csv'\n",
    "\n",
    "file_path = os.path.join(root_folder, file_name)"
   ]
  },
  {
   "cell_type": "code",
   "execution_count": 63,
   "id": "9344592a",
   "metadata": {},
   "outputs": [],
   "source": [
    "if not os.path.exists(file_path):\n",
    "    threadLocal = threading.local()\n",
    "\n",
    "    response = requests.get(\n",
    "    \"https://sea.wildstats.gg/en/leaderboard\")\n",
    "    soup = BeautifulSoup(response.text, \"html.parser\")\n",
    "    elements = soup.findAll('a', attrs = {'class' : 'text-truncate'})\n",
    "    leaderboard = [\n",
    "        (\n",
    "            'https://sea.wildstats.gg'+element.attrs[\"href\"], \n",
    "            element.findChildren(\"span\")[0].text\n",
    "        ) for element in elements\n",
    "    ]\n",
    "\n",
    "    print('total datas number:', len(leaderboard))\n",
    "    print('top 5 players:')\n",
    "    print(leaderboard[:5])\n",
    "\n",
    "    def get_driver():\n",
    "        driver = getattr(threadLocal, 'driver', None)\n",
    "        if driver is None:\n",
    "            chrome_options = Options()\n",
    "            chrome_options.add_argument(\"--headless\")\n",
    "            driver = webdriver.Chrome(service=Service(ChromeDriverManager().install()), \n",
    "                                        options=chrome_options)\n",
    "\n",
    "            setattr(threadLocal, 'driver', driver)\n",
    "        return driver\n",
    "\n",
    "    def scrap(data):\n",
    "        url, id = data\n",
    "\n",
    "        driver = get_driver()\n",
    "\n",
    "        driver.get(url)\n",
    "        html = driver.page_source\n",
    "        soup = BeautifulSoup(html, features=\"html.parser\")\n",
    "        row_datas = soup.findAll('h1', attrs={'class': 'text-center m-0'})\n",
    "\n",
    "        row_datas_text = [data.text for data in row_datas]\n",
    "        marks = soup.find('span', attrs={'class':'badge badge-overlay text-white'}).findAll('div')[1].text.strip()\n",
    "        return (marks, *row_datas_text, url)\n",
    "\n",
    "    with ThreadPool(5) as p:\n",
    "        challenger_datas = list(tqdm(p.imap(scrap, leaderboard), total=len(leaderboard)))\n",
    "    driver = get_driver()\n",
    "    driver.quit()\n",
    "\n",
    "    df = pd.DataFrame(challenger_datas, columns=['Marks', 'WinRate', 'MVP', 'Played', 'URL'])\n",
    "\n",
    "    df.to_csv(file_path, index=False)\n",
    "else:\n",
    "    df = pd.read_csv(file_path)"
   ]
  },
  {
   "cell_type": "code",
   "execution_count": 64,
   "id": "39dbe541",
   "metadata": {},
   "outputs": [
    {
     "name": "stdout",
     "output_type": "stream",
     "text": [
      "   Marks WinRate  MVP  Played  \\\n",
      "0      1  81.82%    8      22   \n",
      "1      1  94.12%    0      17   \n",
      "2      6  88.89%    9      27   \n",
      "3      5  88.24%    2      17   \n",
      "4      4  78.95%    2      19   \n",
      "\n",
      "                                                 URL  \n",
      "0  https://sea.wildstats.gg/en/profile/J9b5FYRbpb...  \n",
      "1  https://sea.wildstats.gg/en/profile/ieTFSECMjK...  \n",
      "2  https://sea.wildstats.gg/en/profile/D7Bg0sbnIi...  \n",
      "3  https://sea.wildstats.gg/en/profile/BE6p43HIWJ...  \n",
      "4  https://sea.wildstats.gg/en/profile/7q6prsD5Ag...  \n"
     ]
    }
   ],
   "source": [
    "print(df.head())"
   ]
  },
  {
   "cell_type": "code",
   "execution_count": 65,
   "id": "fa0280d3",
   "metadata": {},
   "outputs": [],
   "source": [
    "df['Marks'] = df['Marks'].astype('int')\n",
    "df['WinRate'] = df['WinRate'].str.rstrip('%').astype('float')\n",
    "df['MVP'] = df['MVP'].astype('int') \n",
    "df['Played'] = df['Played'].astype('str').str.replace(',', '').astype('int')"
   ]
  },
  {
   "attachments": {},
   "cell_type": "markdown",
   "id": "cc30bab3",
   "metadata": {},
   "source": [
    "```\n",
    "df['Marks']\n",
    "df['WinRate']\n",
    "df['MVP'] / df['Played']\n",
    "```"
   ]
  },
  {
   "cell_type": "code",
   "execution_count": 66,
   "id": "e1b8d325",
   "metadata": {},
   "outputs": [
    {
     "name": "stdout",
     "output_type": "stream",
     "text": [
      "0.070747007922629\n"
     ]
    },
    {
     "data": {
      "image/png": "[encoded data removed]",
      "text/plain": [
       "<Figure size 640x480 with 1 Axes>"
      ]
     },
     "metadata": {},
     "output_type": "display_data"
    }
   ],
   "source": [
    "x = df['Marks']\n",
    "y = df['MVP'] / df['Played']\n",
    "\n",
    "print(np.corrcoef(x, y)[0, 1])\n",
    "\n",
    "fig, ax = plt.subplots()\n",
    "\n",
    "ax.set_xlim((x.min()-10, x.max()+10))\n",
    "ax.set_ylim((y.min()-0.05, y.max()+0.05))\n",
    "\n",
    "ax.plot(x, y, 'o', color='tab:brown')\n",
    "\n",
    "plt.show()"
   ]
  },
  {
   "cell_type": "code",
   "execution_count": 67,
   "id": "75f30f7f",
   "metadata": {},
   "outputs": [
    {
     "name": "stdout",
     "output_type": "stream",
     "text": [
      "0.13990054983597616\n"
     ]
    },
    {
     "data": {
      "image/png": "[encoded data removed]",
      "text/plain": [
       "<Figure size 640x480 with 1 Axes>"
      ]
     },
     "metadata": {},
     "output_type": "display_data"
    }
   ],
   "source": [
    "x = df['WinRate']\n",
    "y = df['MVP'] / df['Played']\n",
    "\n",
    "print(np.corrcoef(x, y)[0, 1])\n",
    "\n",
    "fig, ax = plt.subplots()\n",
    "\n",
    "ax.set_xlim((x.min()-5, x.max()+5))\n",
    "ax.set_ylim((y.min()-0.05, y.max()+0.05))\n",
    "\n",
    "ax.plot(x, y, 'o', color='tab:brown')\n",
    "\n",
    "plt.show()"
   ]
  }
 ],
 "metadata": {
  "kernelspec": {
   "display_name": "wildrift",
   "language": "python",
   "name": "python3"
  },
  "language_info": {
   "codemirror_mode": {
    "name": "ipython",
    "version": 3
   },
   "file_extension": ".py",
   "mimetype": "text/x-python",
   "name": "python",
   "nbconvert_exporter": "python",
   "pygments_lexer": "ipython3",
   "version": "3.8.15"
  },
  "vscode": {
   "interpreter": {
    "hash": "8f3319847b62dfb03ecff6934166b9331ef0117e4ab6b010bde8f5d6e28a7b59"
   }
  }
 },
 "nbformat": 4,
 "nbformat_minor": 5
}
