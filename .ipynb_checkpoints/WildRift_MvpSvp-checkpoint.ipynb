{
 "cells": [
  {
   "cell_type": "code",
   "execution_count": 2,
   "metadata": {
    "id": "qPG1p_YogNmH"
   },
   "outputs": [
    {
     "ename": "ModuleNotFoundError",
     "evalue": "No module named 'pandas'",
     "output_type": "error",
     "traceback": [
      "\u001b[1;31m---------------------------------------------------------------------------\u001b[0m",
      "\u001b[1;31mModuleNotFoundError\u001b[0m                       Traceback (most recent call last)",
      "Cell \u001b[1;32mIn[2], line 4\u001b[0m\n\u001b[0;32m      1\u001b[0m \u001b[38;5;28;01mimport\u001b[39;00m \u001b[38;5;21;01mrequests\u001b[39;00m\n\u001b[0;32m      2\u001b[0m \u001b[38;5;28;01mfrom\u001b[39;00m \u001b[38;5;21;01mbs4\u001b[39;00m \u001b[38;5;28;01mimport\u001b[39;00m BeautifulSoup\n\u001b[1;32m----> 4\u001b[0m \u001b[38;5;28;01mimport\u001b[39;00m \u001b[38;5;21;01mpandas\u001b[39;00m \u001b[38;5;28;01mas\u001b[39;00m \u001b[38;5;21;01mpd\u001b[39;00m\n\u001b[0;32m      5\u001b[0m \u001b[38;5;28;01mimport\u001b[39;00m \u001b[38;5;21;01mnumpy\u001b[39;00m \u001b[38;5;28;01mas\u001b[39;00m \u001b[38;5;21;01mnp\u001b[39;00m\n\u001b[0;32m      6\u001b[0m \u001b[38;5;28;01mfrom\u001b[39;00m \u001b[38;5;21;01msklearn\u001b[39;00m\u001b[38;5;21;01m.\u001b[39;00m\u001b[38;5;21;01mlinear_model\u001b[39;00m \u001b[38;5;28;01mimport\u001b[39;00m LinearRegression\n",
      "\u001b[1;31mModuleNotFoundError\u001b[0m: No module named 'pandas'"
     ]
    }
   ],
   "source": [
    "import requests\n",
    "from bs4 import BeautifulSoup\n",
    "\n",
    "import pandas as pd\n",
    "import numpy as np\n",
    "from sklearn.linear_model import LinearRegression\n",
    "\n",
    "pd.set_option('display.max_rows', None)\n",
    "pd.set_option('display.max_columns', None)\n",
    "pd.set_option('display.width', None)"
   ]
  },
  {
   "cell_type": "code",
   "execution_count": null,
   "metadata": {
    "id": "tLP-SCGcg2y0"
   },
   "outputs": [],
   "source": [
    "response = requests.get(\n",
    "    \"https://sea.wildstats.gg/en/profile/tlBhK5Y71Xm1qjXblmwQ/battle/898783879589689163\")"
   ]
  },
  {
   "cell_type": "code",
   "execution_count": null,
   "metadata": {
    "id": "hrJ3LoNqikBu"
   },
   "outputs": [],
   "source": [
    "soup = BeautifulSoup(response.text, \"html.parser\")\n",
    "\n",
    "row_elements = soup.findAll('td', attrs = {'class' : 'text-grey'})\n",
    "\n",
    "rows = [row_element.text.strip() for row_element in row_elements]\n",
    "\n",
    "column_elements = soup.findAll(attrs={\"class\":\"m-auto\"})\n",
    "\n",
    "columns = [column_element.get(\"title\").split()[2] for column_element in column_elements]\n",
    "\n",
    "df = pd.DataFrame(columns=columns, index=rows)\n",
    "\n",
    "texts = soup.findAll(attrs={\"class\":\"text-center\", \"data-toggle\":\"tooltip\"})\n",
    "\n",
    "all_texts = [text.text.strip() for text in texts]\n",
    "all_texts = np.array(all_texts[10:]).reshape((-1, 10))\n",
    "\n",
    "for i, texts in enumerate(all_texts):\n",
    "  for j, text in enumerate(texts):\n",
    "    if text == \"-\":\n",
    "      all_texts[i, j] = '0'\n",
    "    elif text == \"✔\":\n",
    "      all_texts[i, j] = '1'\n",
    "    elif \"k\" in text:\n",
    "      pass\n",
    "    elif \"%\" in text:\n",
    "      all_texts[i, j] = text.replace(\"%\", \"\")\n",
    "\n",
    "all_texts = np.char.replace(all_texts, 'k', '000')\n",
    "all_texts = all_texts.astype(np.int32)\n",
    "all_texts = np.insert(all_texts, 0, [1, 2, 3, 4, 5]*2, 0)\n",
    "df = pd.DataFrame(all_texts, columns = columns, index = rows)"
   ]
  },
  {
   "cell_type": "code",
   "execution_count": null,
   "metadata": {
    "colab": {
     "base_uri": "https://localhost:8080/"
    },
    "id": "rD9EsyNMkUBR",
    "outputId": "556d82be-c265-4d92-a91f-0ca252ad7ffc"
   },
   "outputs": [],
   "source": [
    "print(df.corrwith(df.loc[\"Game Points\"], axis=1).sort_values())"
   ]
  },
  {
   "cell_type": "code",
   "execution_count": null,
   "metadata": {
    "colab": {
     "base_uri": "https://localhost:8080/"
    },
    "id": "LRWKBfFjl1vI",
    "outputId": "f1717d00-aa78-45df-a37e-65099ee35ad0"
   },
   "outputs": [],
   "source": [
    "print(df.corrwith(df.loc[\"Game Points\"], axis=1).sort_values(key = lambda x: abs(x)))"
   ]
  },
  {
   "cell_type": "code",
   "execution_count": null,
   "metadata": {
    "colab": {
     "base_uri": "https://localhost:8080/"
    },
    "id": "GoOt2OzCsQad",
    "outputId": "4daeaf54-758c-40a9-e3d2-d962617223a8"
   },
   "outputs": [],
   "source": [
    "x = df.drop(['Seconds in Game', 'Game Points', 'Team MVP']).to_numpy()\n",
    "y = df.loc[\"Game Points\"].to_numpy()\n",
    "\n",
    "reg = LinearRegression().fit(np.rot90(x), y)\n",
    "\n",
    "print(x.shape, y.shape)\n",
    "reg.score(np.rot90(x), y)"
   ]
  },
  {
   "cell_type": "code",
   "execution_count": null,
   "metadata": {
    "colab": {
     "base_uri": "https://localhost:8080/"
    },
    "id": "12ASgbh8JeeK",
    "outputId": "b3e299a1-154a-475e-c775-6ba2d77a4fee"
   },
   "outputs": [],
   "source": [
    "reg.coef_"
   ]
  }
 ],
 "metadata": {
  "colab": {
   "provenance": []
  },
  "kernelspec": {
   "display_name": "Python 3 (ipykernel)",
   "language": "python",
   "name": "python3"
  },
  "language_info": {
   "codemirror_mode": {
    "name": "ipython",
    "version": 3
   },
   "file_extension": ".py",
   "mimetype": "text/x-python",
   "name": "python",
   "nbconvert_exporter": "python",
   "pygments_lexer": "ipython3",
   "version": "3.8.15"
  }
 },
 "nbformat": 4,
 "nbformat_minor": 1
}
